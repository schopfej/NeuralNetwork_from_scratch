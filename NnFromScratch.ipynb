{
 "cells": [
  {
   "cell_type": "markdown",
   "id": "a7b940c3-5955-458b-9525-47fee40f8384",
   "metadata": {},
   "source": [
    "# neural network from scratch \n",
    "## this notebook is for learning purpose only"
   ]
  },
  {
   "cell_type": "markdown",
   "id": "6f62c31e-cf60-4a09-8f48-ddf6db6b48d1",
   "metadata": {},
   "source": [
    "#### a NN with \"known\" weights"
   ]
  },
  {
   "cell_type": "code",
   "execution_count": 1,
   "id": "b669e640-f4b0-4aaf-9304-a025b80fee02",
   "metadata": {
    "editable": true,
    "slideshow": {
     "slide_type": ""
    },
    "tags": []
   },
   "outputs": [],
   "source": [
    "#multiinput and one prediction  \n",
    "def neural_network(input, weight):\n",
    "    prediction = dot_product(input,weight) \n",
    "    return prediction "
   ]
  },
  {
   "cell_type": "code",
   "execution_count": 2,
   "id": "111ddbbe-084c-4ac6-9303-510af0b792f8",
   "metadata": {
    "editable": true,
    "slideshow": {
     "slide_type": ""
    },
    "tags": []
   },
   "outputs": [],
   "source": [
    "#multiinput and one prediction  \n",
    "def neural_network(input, weight):\n",
    "    prediction = dot_product(input,weight) \n",
    "    return prediction "
   ]
  },
  {
   "cell_type": "code",
   "execution_count": 3,
   "id": "56117d61-726d-4aa2-86bf-b8f8d7995815",
   "metadata": {
    "editable": true,
    "slideshow": {
     "slide_type": ""
    },
    "tags": []
   },
   "outputs": [],
   "source": [
    "def dot_product(input,weight): \n",
    "    assert len(input) == len(weight), \"dot product vector a != vector b\"\n",
    "    dot_prod = 0\n",
    "    for i in range(len(weight)): \n",
    "        dot_prod += input[i] * weight[i] \n",
    "    return dot_prod "
   ]
  },
  {
   "cell_type": "code",
   "execution_count": 4,
   "id": "e3ba82a2-ccbf-4c96-9def-251e3bd4f2c9",
   "metadata": {
    "editable": true,
    "slideshow": {
     "slide_type": ""
    },
    "tags": []
   },
   "outputs": [],
   "source": [
    "one_neuron_input = [20,8000,1]\n",
    "vector_weight = [0.1,0.2,-0.9] "
   ]
  },
  {
   "cell_type": "code",
   "execution_count": 5,
   "id": "0da19079-6eb6-40c3-b7c7-9386da29f4d8",
   "metadata": {
    "editable": true,
    "slideshow": {
     "slide_type": ""
    },
    "tags": []
   },
   "outputs": [
    {
     "data": {
      "text/plain": [
       "1601.1"
      ]
     },
     "execution_count": 5,
     "metadata": {},
     "output_type": "execute_result"
    }
   ],
   "source": [
    "neural_network(one_neuron_input,vector_weight) "
   ]
  },
  {
   "cell_type": "markdown",
   "id": "14d95059-c248-49de-b05f-da20d8bce7e4",
   "metadata": {
    "editable": true,
    "slideshow": {
     "slide_type": ""
    },
    "tags": []
   },
   "source": [
    "#### one Input and one prediction"
   ]
  },
  {
   "cell_type": "code",
   "execution_count": 6,
   "id": "732216c6-fe5c-45df-b97d-e7d86dd563a8",
   "metadata": {
    "editable": true,
    "slideshow": {
     "slide_type": ""
    },
    "tags": []
   },
   "outputs": [],
   "source": [
    "def neural_network(input, weight):\n",
    "    prediction = dot_product(input,weight) \n",
    "    return prediction\n"
   ]
  },
  {
   "cell_type": "code",
   "execution_count": 7,
   "id": "71054b1c-128e-4630-b141-86d57ed686b8",
   "metadata": {
    "editable": true,
    "slideshow": {
     "slide_type": ""
    },
    "tags": []
   },
   "outputs": [],
   "source": [
    "input = [[20,30,-8],  #temperatur\n",
    "         [8000,1000,2000], #income \n",
    "         [1, 0, 1 ]] #boolean human or not \n",
    "\n",
    "\n",
    "weights = [[0.1,0.2,-0.9 ],\n",
    "          [0.8,0.7,0.1], \n",
    "           [1, 0, 1 ]]\n",
    "         "
   ]
  },
  {
   "cell_type": "code",
   "execution_count": 8,
   "id": "f15d14f6-a2d5-46d8-8f93-6cc39c7eec98",
   "metadata": {
    "editable": true,
    "slideshow": {
     "slide_type": ""
    },
    "tags": []
   },
   "outputs": [],
   "source": [
    "import matplotlib.pyplot as plt\n",
    "def neural_network(input, vector_weight,ground_truth,learning_rate):\n",
    "    array_weights = [] \n",
    "    array_errors = []\n",
    "    for i in range(20): \n",
    "        prediction = input * vector_weight \n",
    "        error = (prediction - ground_truth)**2 \n",
    "        #plot them \n",
    "        array_errors.append(error) \n",
    "        array_weights.append(vector_weight) \n",
    "        \n",
    "        #Gradient descent algorithm \n",
    "        #derivative of the formular \n",
    "        derivative = (prediction - ground_truth) * input*learning_rate #the chain rule of the formula --> f(x)  * x\n",
    "        #now the actualized weight \n",
    "        # weight := weight - learning_rate(alpha) * derivative(f(x)) \n",
    "        vector_weight = vector_weight - derivative \n",
    "        print(\"error: \",error, \" and Prediction was: \",prediction) \n",
    "        print(\"vector_weight: \", vector_weight) \n",
    "        print(\"derivative: \",derivative) \n",
    "        print(\"###################\") \n",
    "        print(\"###################\")\n",
    "\n",
    "\n",
    "\n",
    "    # Plotting the graph\n",
    "    plt.figure(figsize=(10, 6))\n",
    "    plt.plot(array_weights, array_errors, marker='o', linestyle='-', color='blue')\n",
    "    plt.title(\"Weight vs Error during Gradient Descent\")\n",
    "    plt.xlabel(\"Weight\")\n",
    "    plt.ylabel(\"Error\")\n",
    "    plt.grid()\n",
    "    plt.show()\n"
   ]
  },
  {
   "cell_type": "code",
   "execution_count": 9,
   "id": "9407f01a-db54-4eb9-8db2-60b786421739",
   "metadata": {
    "editable": true,
    "slideshow": {
     "slide_type": ""
    },
    "tags": []
   },
   "outputs": [],
   "source": [
    "# overshooting\n",
    "#Input is high\n",
    "one_input = 1.5\n",
    "vector_weight = 0.5\n",
    "ground_truth = 0.8\n",
    "learning_rate = 1"
   ]
  },
  {
   "cell_type": "code",
   "execution_count": 10,
   "id": "31378207-47af-41ec-9b10-c46f54907c70",
   "metadata": {
    "editable": true,
    "scrolled": true,
    "slideshow": {
     "slide_type": ""
    },
    "tags": []
   },
   "outputs": [
    {
     "name": "stdout",
     "output_type": "stream",
     "text": [
      "error:  0.0025000000000000044  and Prediction was:  0.75\n",
      "vector_weight:  0.5750000000000001\n",
      "derivative:  -0.07500000000000007\n",
      "###################\n",
      "###################\n",
      "error:  0.00390625  and Prediction was:  0.8625\n",
      "vector_weight:  0.48125000000000007\n",
      "derivative:  0.09375\n",
      "###################\n",
      "###################\n",
      "error:  0.006103515625  and Prediction was:  0.721875\n",
      "vector_weight:  0.5984375000000001\n",
      "derivative:  -0.1171875\n",
      "###################\n",
      "###################\n",
      "error:  0.0095367431640625  and Prediction was:  0.89765625\n",
      "vector_weight:  0.45195312500000007\n",
      "derivative:  0.146484375\n",
      "###################\n",
      "###################\n",
      "error:  0.014901161193847656  and Prediction was:  0.6779296875\n",
      "vector_weight:  0.6350585937500001\n",
      "derivative:  -0.18310546875\n",
      "###################\n",
      "###################\n",
      "error:  0.023283064365386963  and Prediction was:  0.952587890625\n",
      "vector_weight:  0.40617675781250007\n",
      "derivative:  0.2288818359375\n",
      "###################\n",
      "###################\n",
      "error:  0.03637978807091713  and Prediction was:  0.60926513671875\n",
      "vector_weight:  0.6922790527343751\n",
      "derivative:  -0.286102294921875\n",
      "###################\n",
      "###################\n",
      "error:  0.056843418860808015  and Prediction was:  1.0384185791015625\n",
      "vector_weight:  0.3346511840820313\n",
      "derivative:  0.35762786865234375\n",
      "###################\n",
      "###################\n",
      "error:  0.08881784197001252  and Prediction was:  0.5019767761230469\n",
      "vector_weight:  0.781686019897461\n",
      "derivative:  -0.4470348358154297\n",
      "###################\n",
      "###################\n",
      "error:  0.13877787807814457  and Prediction was:  1.1725290298461915\n",
      "vector_weight:  0.2228924751281739\n",
      "derivative:  0.5587935447692871\n",
      "###################\n",
      "###################\n",
      "error:  0.21684043449710083  and Prediction was:  0.33433871269226084\n",
      "vector_weight:  0.9213844060897827\n",
      "derivative:  -0.6984919309616088\n",
      "###################\n",
      "###################\n",
      "error:  0.33881317890171986  and Prediction was:  1.382076609134674\n",
      "vector_weight:  0.048269492387771895\n",
      "derivative:  0.8731149137020108\n",
      "###################\n",
      "###################\n",
      "error:  0.529395592033937  and Prediction was:  0.07240423858165784\n",
      "vector_weight:  1.1396631345152852\n",
      "derivative:  -1.0913936421275132\n",
      "###################\n",
      "###################\n",
      "error:  0.8271806125530269  and Prediction was:  1.7094947017729278\n",
      "vector_weight:  -0.22457891814410647\n",
      "derivative:  1.3642420526593917\n",
      "###################\n",
      "###################\n",
      "error:  1.2924697071141047  and Prediction was:  -0.3368683772161597\n",
      "vector_weight:  1.4807236476801333\n",
      "derivative:  -1.7053025658242398\n",
      "###################\n",
      "###################\n",
      "error:  2.0194839173657897  and Prediction was:  2.2210854715202\n",
      "vector_weight:  -0.6509045596001668\n",
      "derivative:  2.1316282072803\n",
      "###################\n",
      "###################\n",
      "error:  3.1554436208840464  and Prediction was:  -0.9763568394002502\n",
      "vector_weight:  2.0136306995002085\n",
      "derivative:  -2.6645352591003753\n",
      "###################\n",
      "###################\n",
      "error:  4.930380657631324  and Prediction was:  3.020446049250313\n",
      "vector_weight:  -1.3170383743752612\n",
      "derivative:  3.3306690738754696\n",
      "###################\n",
      "###################\n",
      "error:  7.703719777548946  and Prediction was:  -1.9755575615628918\n",
      "vector_weight:  2.8462979679690767\n",
      "derivative:  -4.163336342344338\n",
      "###################\n",
      "###################\n",
      "error:  12.03706215242023  and Prediction was:  4.269446951953615\n",
      "vector_weight:  -2.3578724599613463\n",
      "derivative:  5.204170427930423\n",
      "###################\n",
      "###################\n"
     ]
    },
    {
     "data": {
      "image/png": "[encoded data removed]",
      "text/plain": [
       "<Figure size 1000x600 with 1 Axes>"
      ]
     },
     "metadata": {},
     "output_type": "display_data"
    }
   ],
   "source": [
    "neural_network(one_input, vector_weight,ground_truth,learning_rate)"
   ]
  },
  {
   "cell_type": "code",
   "execution_count": 11,
   "id": "54ffdc40-c742-492d-a649-79f769c9c4a7",
   "metadata": {
    "editable": true,
    "slideshow": {
     "slide_type": ""
    },
    "tags": []
   },
   "outputs": [],
   "source": [
    "#learning rate 0.2, Input is high\n",
    "one_input = 1.5\n",
    "vector_weight = 0.5\n",
    "ground_truth = 0.8\n",
    "learning_rate = 0.2 "
   ]
  },
  {
   "cell_type": "code",
   "execution_count": 12,
   "id": "3b1fa28e-fffa-4c25-86d5-f6c767d88bdd",
   "metadata": {
    "editable": true,
    "scrolled": true,
    "slideshow": {
     "slide_type": ""
    },
    "tags": []
   },
   "outputs": [
    {
     "name": "stdout",
     "output_type": "stream",
     "text": [
      "error:  0.0025000000000000044  and Prediction was:  0.75\n",
      "vector_weight:  0.515\n",
      "derivative:  -0.015000000000000013\n",
      "###################\n",
      "###################\n",
      "error:  0.0007562500000000044  and Prediction was:  0.7725\n",
      "vector_weight:  0.52325\n",
      "derivative:  -0.008250000000000025\n",
      "###################\n",
      "###################\n",
      "error:  0.00022876562500000167  and Prediction was:  0.784875\n",
      "vector_weight:  0.5277875\n",
      "derivative:  -0.004537500000000016\n",
      "###################\n",
      "###################\n",
      "error:  6.920160156250253e-05  and Prediction was:  0.7916812499999999\n",
      "vector_weight:  0.530283125\n",
      "derivative:  -0.002495625000000046\n",
      "###################\n",
      "###################\n",
      "error:  2.093348447265712e-05  and Prediction was:  0.7954246875\n",
      "vector_weight:  0.53165571875\n",
      "derivative:  -0.0013725937500000285\n",
      "###################\n",
      "###################\n",
      "error:  6.332379052979114e-06  and Prediction was:  0.7974835781249999\n",
      "vector_weight:  0.5324106453124999\n",
      "derivative:  -0.0007549265625000356\n",
      "###################\n",
      "###################\n",
      "error:  1.9155446635264124e-06  and Prediction was:  0.7986159679687499\n",
      "vector_weight:  0.532825854921875\n",
      "derivative:  -0.0004152096093750446\n",
      "###################\n",
      "###################\n",
      "error:  5.794522607167905e-07  and Prediction was:  0.7992387823828124\n",
      "vector_weight:  0.5330542202070312\n",
      "derivative:  -0.00022836528515628453\n",
      "###################\n",
      "###################\n",
      "error:  1.752843088668849e-07  and Prediction was:  0.7995813303105468\n",
      "vector_weight:  0.5331798211138672\n",
      "derivative:  -0.00012560090683597647\n",
      "###################\n",
      "###################\n",
      "error:  5.302350343221734e-08  and Prediction was:  0.7997697316708008\n",
      "vector_weight:  0.533248901612627\n",
      "derivative:  -6.908049875977707e-05\n",
      "###################\n",
      "###################\n",
      "error:  1.6039609788254182e-08  and Prediction was:  0.7998733524189404\n",
      "vector_weight:  0.5332868958869448\n",
      "derivative:  -3.799427431788738e-05\n",
      "###################\n",
      "###################\n",
      "error:  4.85198196095849e-09  and Prediction was:  0.7999303438304172\n",
      "vector_weight:  0.5333077927378196\n",
      "derivative:  -2.0896850874863038e-05\n",
      "###################\n",
      "###################\n",
      "error:  1.4677245431963232e-09  and Prediction was:  0.7999616891067294\n",
      "vector_weight:  0.5333192860058008\n",
      "derivative:  -1.1493267981199651e-05\n",
      "###################\n",
      "###################\n",
      "error:  4.4398667431782354e-10  and Prediction was:  0.7999789290087012\n",
      "vector_weight:  0.5333256073031905\n",
      "derivative:  -6.32129738966647e-06\n",
      "###################\n",
      "###################\n",
      "error:  1.3430596898062696e-10  and Prediction was:  0.7999884109547857\n",
      "vector_weight:  0.5333290840167547\n",
      "derivative:  -3.476713564309897e-06\n",
      "###################\n",
      "###################\n",
      "error:  4.0627555616781185e-11  and Prediction was:  0.7999936260251321\n",
      "vector_weight:  0.5333309962092151\n",
      "derivative:  -1.912192460373774e-06\n",
      "###################\n",
      "###################\n",
      "error:  1.2289835574076309e-11  and Prediction was:  0.7999964943138227\n",
      "vector_weight:  0.5333320479150683\n",
      "derivative:  -1.0517058532055757e-06\n",
      "###################\n",
      "###################\n",
      "error:  3.717675261500588e-12  and Prediction was:  0.7999980718726024\n",
      "vector_weight:  0.5333326263532876\n",
      "derivative:  -5.78438219289712e-07\n",
      "###################\n",
      "###################\n",
      "error:  1.1245967664979655e-12  and Prediction was:  0.7999989395299314\n",
      "vector_weight:  0.5333329444943082\n",
      "derivative:  -3.181410205943536e-07\n",
      "###################\n",
      "###################\n",
      "error:  3.4019052178792893e-13  and Prediction was:  0.7999994167414624\n",
      "vector_weight:  0.5333331194718696\n",
      "derivative:  -1.7497756130691047e-07\n",
      "###################\n",
      "###################\n"
     ]
    },
    {
     "data": {
      "image/png": "[encoded data removed]",
      "text/plain": [
       "<Figure size 1000x600 with 1 Axes>"
      ]
     },
     "metadata": {},
     "output_type": "display_data"
    }
   ],
   "source": [
    "neural_network(one_input, vector_weight,ground_truth,learning_rate)"
   ]
  },
  {
   "cell_type": "code",
   "execution_count": 13,
   "id": "0401cdef-181f-431c-8d4f-7f1ea0b38437",
   "metadata": {
    "editable": true,
    "slideshow": {
     "slide_type": ""
    },
    "tags": []
   },
   "outputs": [],
   "source": [
    "#learning rate 1, low input\n",
    "one_input = 0.5\n",
    "vector_weight = 0.5\n",
    "ground_truth = 0.8\n",
    "learning_rate = 1 "
   ]
  },
  {
   "cell_type": "code",
   "execution_count": 14,
   "id": "e9023125-2524-4b12-a5dc-a3ea0227f4f2",
   "metadata": {
    "editable": true,
    "scrolled": true,
    "slideshow": {
     "slide_type": ""
    },
    "tags": []
   },
   "outputs": [
    {
     "name": "stdout",
     "output_type": "stream",
     "text": [
      "error:  0.30250000000000005  and Prediction was:  0.25\n",
      "vector_weight:  0.775\n",
      "derivative:  -0.275\n",
      "###################\n",
      "###################\n",
      "error:  0.17015625000000004  and Prediction was:  0.3875\n",
      "vector_weight:  0.9812500000000001\n",
      "derivative:  -0.20625000000000002\n",
      "###################\n",
      "###################\n",
      "error:  0.095712890625  and Prediction was:  0.49062500000000003\n",
      "vector_weight:  1.1359375\n",
      "derivative:  -0.1546875\n",
      "###################\n",
      "###################\n",
      "error:  0.05383850097656251  and Prediction was:  0.56796875\n",
      "vector_weight:  1.251953125\n",
      "derivative:  -0.11601562500000001\n",
      "###################\n",
      "###################\n",
      "error:  0.03028415679931642  and Prediction was:  0.6259765625\n",
      "vector_weight:  1.33896484375\n",
      "derivative:  -0.08701171875000002\n",
      "###################\n",
      "###################\n",
      "error:  0.0170348381996155  and Prediction was:  0.669482421875\n",
      "vector_weight:  1.4042236328125\n",
      "derivative:  -0.06525878906250004\n",
      "###################\n",
      "###################\n",
      "error:  0.00958209648728372  and Prediction was:  0.70211181640625\n",
      "vector_weight:  1.453167724609375\n",
      "derivative:  -0.04894409179687503\n",
      "###################\n",
      "###################\n",
      "error:  0.005389929274097089  and Prediction was:  0.7265838623046875\n",
      "vector_weight:  1.4898757934570312\n",
      "derivative:  -0.03670806884765626\n",
      "###################\n",
      "###################\n",
      "error:  0.0030318352166796153  and Prediction was:  0.7449378967285156\n",
      "vector_weight:  1.5174068450927733\n",
      "derivative:  -0.02753105163574221\n",
      "###################\n",
      "###################\n",
      "error:  0.0017054073093822882  and Prediction was:  0.7587034225463867\n",
      "vector_weight:  1.53805513381958\n",
      "derivative:  -0.020648288726806685\n",
      "###################\n",
      "###################\n",
      "error:  0.0009592916115275371  and Prediction was:  0.76902756690979\n",
      "vector_weight:  1.553541350364685\n",
      "derivative:  -0.015486216545105014\n",
      "###################\n",
      "###################\n",
      "error:  0.0005396015314842384  and Prediction was:  0.7767706751823426\n",
      "vector_weight:  1.5651560127735138\n",
      "derivative:  -0.011614662408828746\n",
      "###################\n",
      "###################\n",
      "error:  0.000303525861459885  and Prediction was:  0.7825780063867569\n",
      "vector_weight:  1.5738670095801353\n",
      "derivative:  -0.008710996806621574\n",
      "###################\n",
      "###################\n",
      "error:  0.00017073329707118678  and Prediction was:  0.7869335047900676\n",
      "vector_weight:  1.5804002571851015\n",
      "derivative:  -0.006533247604966208\n",
      "###################\n",
      "###################\n",
      "error:  9.603747960254256e-05  and Prediction was:  0.7902001285925507\n",
      "vector_weight:  1.5853001928888262\n",
      "derivative:  -0.004899935703724656\n",
      "###################\n",
      "###################\n",
      "error:  5.402108227642978e-05  and Prediction was:  0.7926500964444131\n",
      "vector_weight:  1.5889751446666196\n",
      "derivative:  -0.003674951777793478\n",
      "###################\n",
      "###################\n",
      "error:  3.038685878049206e-05  and Prediction was:  0.7944875723333098\n",
      "vector_weight:  1.5917313584999646\n",
      "derivative:  -0.0027562138333451225\n",
      "###################\n",
      "###################\n",
      "error:  1.7092608064027242e-05  and Prediction was:  0.7958656792499823\n",
      "vector_weight:  1.5937985188749735\n",
      "derivative:  -0.0020671603750088696\n",
      "###################\n",
      "###################\n",
      "error:  9.614592036015323e-06  and Prediction was:  0.7968992594374867\n",
      "vector_weight:  1.5953488891562302\n",
      "derivative:  -0.0015503702812566522\n",
      "###################\n",
      "###################\n",
      "error:  5.408208020258491e-06  and Prediction was:  0.7976744445781151\n",
      "vector_weight:  1.5965116668671726\n",
      "derivative:  -0.0011627777109424753\n",
      "###################\n",
      "###################\n"
     ]
    },
    {
     "data": {
      "image/png": "[encoded data removed]",
      "text/plain": [
       "<Figure size 1000x600 with 1 Axes>"
      ]
     },
     "metadata": {},
     "output_type": "display_data"
    }
   ],
   "source": [
    "neural_network(one_input, vector_weight,ground_truth,learning_rate)"
   ]
  },
  {
   "cell_type": "markdown",
   "id": "78a5225c-5cf6-4b79-b8b6-31f1aebe35bf",
   "metadata": {
    "editable": true,
    "slideshow": {
     "slide_type": ""
    },
    "tags": []
   },
   "source": [
    "### Multiinput, multioutput "
   ]
  },
  {
   "cell_type": "code",
   "execution_count": 15,
   "id": "4e92fe35-ac5d-4575-8eb2-962b2210efd0",
   "metadata": {
    "editable": true,
    "slideshow": {
     "slide_type": ""
    },
    "tags": []
   },
   "outputs": [],
   "source": [
    "#multiinput and Multioutput prediction\n",
    "def neural_network(input, vector_weight, ground_truth, learning_rate):\n",
    "    array_weights = []\n",
    "    array_errors = []\n",
    "    #suppose we have 3 predictions to make \n",
    "    prediction = [0,0,0]\n",
    "    error = [0,0,0]\n",
    "    for iterations in range(80):\n",
    "        for i in range(len(prediction)):\n",
    "            prediction[i] = round(dot_product(input[i] ,vector_weight[i]),10)\n",
    "            prediction[i] = round(prediction[i],4)\n",
    "            error[i] = pow(prediction[i] - ground_truth[i],2)\n",
    "\n",
    "            \n",
    "            # Append rounded values\n",
    "            \n",
    "            \n",
    "            # Gradient descent algorithm\n",
    "            #derivative = round((prediction[i] - ground_truth[i]) * input * learning_rate, 20)\n",
    "            #vector_weight = round(vector_weight - derivative, 20)\n",
    "    \n",
    "            #update the weight \n",
    "            for y in range(len(vector_weight[i])):\n",
    "                \n",
    "                vector_weight[i][y] = vector_weight[i][y] - ((prediction[i] - ground_truth[i]) * input[i][y])* learning_rate\n",
    "                \n",
    "                print(\"vector weigth \", vector_weight[i][y])\n",
    "                print(\"input \", input[i][y])\n",
    "                print(\"ground_truth \",ground_truth[i])\n",
    "            # Print values rounded to 20 digits\n",
    "                print(\"error: \", str([i]), round(error[i], 20), \" and Prediction was: \", round(prediction[i], 20))\n",
    "                print(\"###################\")\n",
    "                print(\"###################\")\n",
    "\n",
    "\n",
    "\n"
   ]
  },
  {
   "cell_type": "code",
   "execution_count": 16,
   "id": "d47793bc-96cf-481d-85a4-a5d777e78af7",
   "metadata": {
    "editable": true,
    "slideshow": {
     "slide_type": ""
    },
    "tags": []
   },
   "outputs": [],
   "source": [
    "def dot_product(input,weight): \n",
    "    print(\"input vector is: \", len(input)) \n",
    "    print(\"weight vector is: \", len(weight)) \n",
    "    assert len(input) == len(weight), \"dot product vector a != vector b\"\n",
    "    dot_prod = 0\n",
    "    for i in range(len(weight)): \n",
    "        dot_prod += round(input[i] * weight[i],7)\n",
    "    return dot_prod "
   ]
  },
  {
   "cell_type": "code",
   "execution_count": 17,
   "id": "6518eebc-23ee-4561-b884-27ea9b0cb39d",
   "metadata": {
    "editable": true,
    "slideshow": {
     "slide_type": ""
    },
    "tags": []
   },
   "outputs": [],
   "source": [
    "input = [[0.2,0.8,-0.8],  #temperatur\n",
    "         [0.8,0.5,0.2], #income \n",
    "         [1, 0, 1 ]] #boolean human or not \n",
    "\n",
    "\n",
    "weights = [[0.1,0.2,-0.9 ],\n",
    "          [0.8,0.7,0.1], \n",
    "           [0.5, 0.5, 0.2 ]]\n",
    "\n",
    "ground_truth = [0.9,0.7,0.1]\n",
    "         "
   ]
  },
  {
   "cell_type": "code",
   "execution_count": null,
   "id": "fba2b08f-e9cb-4549-9d5c-fccc246136c7",
   "metadata": {
    "editable": true,
    "scrolled": true,
    "slideshow": {
     "slide_type": ""
    },
    "tags": []
   },
   "outputs": [],
   "source": [
    "neural_network(input, weights, ground_truth, 0.2)\n",
    "#this Nn converges"
   ]
  },
  {
   "cell_type": "code",
   "execution_count": 19,
   "id": "d3bcd541-d5e1-4583-99fb-9b2524ac284f",
   "metadata": {
    "editable": true,
    "slideshow": {
     "slide_type": ""
    },
    "tags": []
   },
   "outputs": [],
   "source": [
    "from mnist import MNIST\n",
    "import numpy as np\n",
    "import pickle\n",
    "\n",
    "# Load MNIST data using pickle\n",
    "with open('mini-mnist-1000.pickle', 'rb') as f:\n",
    "    data = pickle.load(f)\n",
    "\n",
    "images = np.array(data['images'])\n",
    "labels = np.array(data['labels'])"
   ]
  },
  {
   "cell_type": "code",
   "execution_count": 20,
   "id": "0b3c15d9-8d72-4358-a615-0052511def35",
   "metadata": {
    "editable": true,
    "slideshow": {
     "slide_type": ""
    },
    "tags": []
   },
   "outputs": [
    {
     "name": "stdout",
     "output_type": "stream",
     "text": [
      "(1000, 784)\n"
     ]
    }
   ],
   "source": [
    "# Assuming data['images'] is a list of 1000 (28x28) numpy arrays\n",
    "images = np.array(data['images'], dtype=np.uint8)  # Shape: (1000, 28, 28)\n",
    "\n",
    "# Reshaping the images\n",
    "images_reshaped = images.reshape(1000, 28 * 28)  # Shape: (1000, 784)\n",
    "\n",
    "# Verify the shape\n",
    "print(images_reshaped.shape)  # Output: (1000, 784)\n"
   ]
  },
  {
   "cell_type": "code",
   "execution_count": null,
   "id": "6d33046b-d94d-4e3a-a340-b71421eda84c",
   "metadata": {
    "editable": true,
    "slideshow": {
     "slide_type": ""
    },
    "tags": []
   },
   "outputs": [],
   "source": [
    "plt.imshow(images[0], cmap='gray')  #\n",
    "plt.title(f\"Label: {labels[0]}\")\n",
    "plt.show()\n",
    "\n",
    "plt.imshow(images[900].reshape(4,196), cmap='gray')  #\n",
    "plt.title(f\"Label: {labels[900]}\")\n",
    "plt.show()"
   ]
  },
  {
   "cell_type": "code",
   "execution_count": 22,
   "id": "baa26a7f-ce28-40e9-ad20-9df4330ee7a4",
   "metadata": {
    "editable": true,
    "slideshow": {
     "slide_type": ""
    },
    "tags": []
   },
   "outputs": [],
   "source": [
    "#multiinput and Multioutput prediction for MNIST Dataset\n",
    "def neural_network(input, vector_weight, ground_truth, learning_rate):\n",
    "    array_weights = []\n",
    "    array_errors = []\n",
    "    #suppose we have 10 predictions to make \n",
    "    prediction = [0,0,0,0,0,0,0,0,0,0]\n",
    "    error = [0,0,0,0,0,0,0,0,0,0]\n",
    "    for z in range(len(input)):\n",
    "        for i in range(len(prediction)):\n",
    "            prediction[i] = round(dot_product(input[z] ,vector_weight[i]),10)\n",
    "            prediction[i] = round(prediction[i],4)\n",
    "            error[i] = pow(prediction[i] - ground_truth[z],2)\n",
    "\n",
    "            \n",
    "            # Append rounded values\n",
    "            # Gradient descent algorithm\n",
    "    \n",
    "            #update the weight \n",
    "            for y in range(len(vector_weight[i])):\n",
    "                \n",
    "                vector_weight[i][y] = vector_weight[i][y] - ((prediction[i] - ground_truth[z]) * input[z][y])* learning_rate\n",
    "                \n",
    "                print(\"vector weigth \", vector_weight[i][y])\n",
    "                print(\"ground_truth \",ground_truth[z])\n",
    "            # Print values rounded to 20 digits\n",
    "                print(\"error: \", str([i]), round(error[i], 20), \" and Prediction was: \", round(prediction[i], 20))\n",
    "                print(\"###################\")\n",
    "                print(\"###################\")\n",
    "\n",
    "\n",
    "def dot_product(input,weight): \n",
    "    print(\"input has shape: \" , input.shape) \n",
    "    print(\"weight has shape: \", weight.shape)\n",
    "    assert len(input) == len(weight), \"dot product vector a != vector b\"\n",
    "    dot_prod = 0\n",
    "    for i in range(len(weight)): \n",
    "        dot_prod += round(input[i] * weight[i],7)\n",
    "    return dot_prod "
   ]
  },
  {
   "cell_type": "code",
   "execution_count": 23,
   "id": "35500068-6304-4070-8db5-364f67a3631b",
   "metadata": {
    "editable": true,
    "slideshow": {
     "slide_type": ""
    },
    "tags": []
   },
   "outputs": [
    {
     "name": "stdout",
     "output_type": "stream",
     "text": [
      "Number of rows: 1000\n",
      "Number of columns: 784\n"
     ]
    }
   ],
   "source": [
    "# Create a vector with 10 rows and 28*28 columns filled with random numbers\n",
    "rows = 1000\n",
    "cols = 28*28\n",
    "weights = np.random.rand(rows, cols)\n",
    "\n",
    "# Show the number of rows and columns\n",
    "print(f\"Number of rows: {weights.shape[0]}\")\n",
    "print(f\"Number of columns: {weights.shape[1]}\")"
   ]
  },
  {
   "cell_type": "code",
   "execution_count": null,
   "id": "603a392a-1f3d-4fe7-9de2-b813544d65ff",
   "metadata": {
    "editable": true,
    "scrolled": true,
    "slideshow": {
     "slide_type": ""
    },
    "tags": []
   },
   "outputs": [],
   "source": [
    "input = images_reshaped\n",
    "ground_truth = labels\n",
    "print(images_reshaped[900].shape)\n",
    "neural_network(input, weights, ground_truth, 3)"
   ]
  },
  {
   "cell_type": "markdown",
   "id": "b799d497-6da1-4e50-8446-fff4f7631a3e",
   "metadata": {},
   "source": [
    "#### this Nn doesnt convert bc. of the false ground truth.."
   ]
  },
  {
   "cell_type": "code",
   "execution_count": 25,
   "id": "66ac544a-71d5-4861-b726-a5fa70fa34fb",
   "metadata": {},
   "outputs": [
    {
     "data": {
      "text/plain": [
       "array([[1, 0, 0, ..., 0, 0, 0],\n",
       "       [1, 0, 0, ..., 0, 0, 0],\n",
       "       [1, 0, 0, ..., 0, 0, 0],\n",
       "       ...,\n",
       "       [0, 0, 0, ..., 0, 0, 1],\n",
       "       [0, 0, 0, ..., 0, 0, 1],\n",
       "       [0, 0, 0, ..., 0, 0, 1]], shape=(1000, 10))"
      ]
     },
     "execution_count": 25,
     "metadata": {},
     "output_type": "execute_result"
    }
   ],
   "source": [
    "def ground_truthArrayToMatrix(array,iColumns): \n",
    "    #make a matrix with zeros\n",
    "    matrix = np.zeros((len(array), iColumns), dtype=array.dtype)\n",
    "    for i in range(len(matrix)): \n",
    "        #array[i] gives a value, which is the index for the matrix to fill in\n",
    "        matrix[i,array[i]] = 1 \n",
    "    return matrix\n",
    "\n",
    "ground_truthArrayToMatrix(labels, 10)    "
   ]
  },
  {
   "cell_type": "code",
   "execution_count": 26,
   "id": "f1582049-6d0e-44ca-8231-f2477db0d0bf",
   "metadata": {},
   "outputs": [],
   "source": [
    "#multiinput and Multioutput prediction for MNIST Dataset\n",
    "def neural_network(input, vector_weight, ground_truth, learning_rate):\n",
    "    array_weights = []\n",
    "    array_errors = []\n",
    "    #suppose we have 10 predictions to make \n",
    "    prediction = [0,0,0,0,0,0,0,0,0,0]\n",
    "    error = [0,0,0,0,0,0,0,0,0,0]\n",
    "    for z in range(len(input)):\n",
    "        for i in range(len(prediction)):\n",
    "            prediction[i] = round(dot_product(input[z] ,vector_weight[i]),10)\n",
    "            prediction[i] = round(prediction[i],4)\n",
    "            error[i] = pow(prediction[i] - ground_truth[z][i],2)\n",
    "\n",
    "            \n",
    "            # Append rounded values\n",
    "            \n",
    "            \n",
    "            # Gradient descent algorithm\n",
    "            #derivative = round((prediction[i] - ground_truth[i]) * input * learning_rate, 20)\n",
    "            #vector_weight = round(vector_weight - derivative, 20)\n",
    "    \n",
    "            #update the weight \n",
    "            for y in range(len(vector_weight[i])):\n",
    "                \n",
    "                vector_weight[i][y] = vector_weight[i][y] - ((prediction[i] - ground_truth[z][i]) * input[z][y])* learning_rate\n",
    "                \n",
    "                print(\"vector weigth \", vector_weight[i][y])\n",
    "                print(\"ground_truth \",ground_truth[z][i])\n",
    "            # Print values rounded to 20 digits\n",
    "                print(\"error: \", str([i]), round(error[i], 20), \" and Prediction was: \", round(prediction[i], 20))\n",
    "                print(\"###################\")\n",
    "                print(\"###################\")\n",
    "\n",
    "\n",
    "def dot_product(input,weight): \n",
    "    print(\"input has shape: \" , input.shape) \n",
    "    print(\"weight has shape: \", weight.shape)\n",
    "    assert len(input) == len(weight), \"dot product vector a != vector b\"\n",
    "    dot_prod = 0\n",
    "    for i in range(len(weight)): \n",
    "        dot_prod += round(input[i] * weight[i],7)\n",
    "    return dot_prod "
   ]
  },
  {
   "cell_type": "code",
   "execution_count": null,
   "id": "275a92d2-c8c7-4bcc-8519-7cbe5eea41b1",
   "metadata": {},
   "outputs": [],
   "source": []
  }
 ],
 "metadata": {
  "kernelspec": {
   "display_name": "Python 3 (ipykernel)",
   "language": "python",
   "name": "python3"
  },
  "language_info": {
   "codemirror_mode": {
    "name": "ipython",
    "version": 3
   },
   "file_extension": ".py",
   "mimetype": "text/x-python",
   "name": "python",
   "nbconvert_exporter": "python",
   "pygments_lexer": "ipython3",
   "version": "3.11.6"
  },
  "toc": {
   "base_numbering": 1
  }
 },
 "nbformat": 4,
 "nbformat_minor": 5
}
